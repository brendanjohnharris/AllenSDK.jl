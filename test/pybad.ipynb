{
 "cells": [
  {
   "cell_type": "code",
   "execution_count": 1,
   "metadata": {},
   "outputs": [
    {
     "name": "stderr",
     "output_type": "stream",
     "text": [
      "/home/brendan/.local/lib/python3.9/site-packages/tqdm/auto.py:21: TqdmWarning: IProgress not found. Please update jupyter and ipywidgets. See https://ipywidgets.readthedocs.io/en/stable/user_install.html\n",
      "  from .autonotebook import tqdm as notebook_tqdm\n"
     ]
    },
    {
     "data": {
      "text/plain": [
       "root pynwb.file.NWBFile at 0x140287033201280\n",
       "Fields:\n",
       "  acquisition: {\n",
       "    EyeTracking <class 'abc.EllipseEyeTracking'>,\n",
       "    v_in <class 'pynwb.base.TimeSeries'>,\n",
       "    v_sig <class 'pynwb.base.TimeSeries'>\n",
       "  }\n",
       "  devices: {\n",
       "    NP.1 <class 'pynwb.device.Device'>,\n",
       "    probeA <class 'abc.EcephysProbe'>,\n",
       "    probeB <class 'abc.EcephysProbe'>,\n",
       "    probeC <class 'abc.EcephysProbe'>,\n",
       "    probeD <class 'abc.EcephysProbe'>,\n",
       "    probeE <class 'abc.EcephysProbe'>,\n",
       "    probeF <class 'abc.EcephysProbe'>\n",
       "  }\n",
       "  electrode_groups: {\n",
       "    probeA <class 'abc.EcephysElectrodeGroup'>,\n",
       "    probeB <class 'abc.EcephysElectrodeGroup'>,\n",
       "    probeC <class 'abc.EcephysElectrodeGroup'>,\n",
       "    probeD <class 'abc.EcephysElectrodeGroup'>,\n",
       "    probeE <class 'abc.EcephysElectrodeGroup'>,\n",
       "    probeF <class 'abc.EcephysElectrodeGroup'>\n",
       "  }\n",
       "  electrodes: electrodes <class 'hdmf.common.table.DynamicTable'>\n",
       "  file_create_date: [datetime.datetime(2022, 11, 3, 14, 55, 12, 83334, tzinfo=tzutc())]\n",
       "  identifier: 1152811536\n",
       "  institution: Allen Institute for Brain Science\n",
       "  intervals: {\n",
       "    Natural_Images_Lum_Matched_set_ophys_H_2019_presentations <class 'pynwb.epoch.TimeIntervals'>,\n",
       "    flash_250ms_presentations <class 'pynwb.epoch.TimeIntervals'>,\n",
       "    gabor_20_deg_250ms_presentations <class 'pynwb.epoch.TimeIntervals'>,\n",
       "    spontaneous_presentations <class 'pynwb.epoch.TimeIntervals'>,\n",
       "    trials <class 'pynwb.epoch.TimeIntervals'>\n",
       "  }\n",
       "  lab_meta_data: {\n",
       "    metadata <class 'abc.BehaviorMetadata'>,\n",
       "    task_parameters <class 'abc.BehaviorTaskParameters'>\n",
       "  }\n",
       "  processing: {\n",
       "    eye_tracking_rig_metadata <class 'pynwb.base.ProcessingModule'>,\n",
       "    licking <class 'pynwb.base.ProcessingModule'>,\n",
       "    optotagging <class 'pynwb.base.ProcessingModule'>,\n",
       "    rewards <class 'pynwb.base.ProcessingModule'>,\n",
       "    running <class 'pynwb.base.ProcessingModule'>,\n",
       "    stimulus <class 'pynwb.base.ProcessingModule'>\n",
       "  }\n",
       "  session_description: EPHYS_1_images_H_3uL_reward\n",
       "  session_start_time: 2022-01-20 21:50:22+00:00\n",
       "  stimulus_template: {\n",
       "    Natural_Images_Lum_Matched_set_ophys_H_2019.05.26 <class 'abc.StimulusTemplate'>\n",
       "  }\n",
       "  subject: subject abc.BehaviorSubject at 0x140287023273056\n",
       "Fields:\n",
       "  age: P146D\n",
       "  description: A visual behavior subject with a LabTracks ID\n",
       "  driver_line: ['Vip-IRES-Cre']\n",
       "  genotype: Vip-IRES-Cre/wt;Ai32(RCL-ChR2(H134R)_EYFP)/wt\n",
       "  reporter_line: Ai32(RCL-ChR2(H134R)_EYFP)\n",
       "  sex: M\n",
       "  species: Mus musculus\n",
       "  subject_id: 599294\n",
       "\n",
       "  timestamps_reference_time: 2022-01-20 21:50:22+00:00\n",
       "  trials: trials <class 'pynwb.epoch.TimeIntervals'>\n",
       "  units: units <class 'pynwb.misc.Units'>"
      ]
     },
     "execution_count": 1,
     "metadata": {},
     "output_type": "execute_result"
    }
   ],
   "source": [
    "import allensdk\n",
    "import pynwb\n",
    "# from allensdk.brain_observatory.nwb.nwb_api import NwbApi\n",
    "# # namespace_path = '/home/brendan/OneDrive/Masters/Code/AllenSDK/allensdk/brain_observatory/nwb/ndx-aibs-behavior-ophys.namespace.yaml'\n",
    "# # pynwb.load_namespaces(str(namespace_path))\n",
    "from allensdk.brain_observatory.ecephys import ecephys_project_cache\n",
    "\n",
    "with pynwb.NWBHDF5IO('ecephys_session_1152811536.nwb', \"r\", load_namespaces=True) as read_io:\n",
    "            nwbfile = read_io.read()\n",
    "nwbfile\n",
    "\n",
    "# from allensdk.brain_observatory.ecephys import behavior_ecephys_session\n",
    "# S = behavior_ecephys_session.BehaviorEcephysSession.from_nwb_path('ecephys_session_1152811536.nwb') # Runs fine\n",
    "# m = allensdk.brain_observatory.behavior.data_objects.metadata.behavior_metadata.behavior_metadata.BehaviorMetadata.from_nwb(nwbfile)\n",
    "# m\n",
    "# allensdk.brain_observatory.ecephys._behavior_ecephys_metadata.BehaviorEcephysMetadata.__mro__"
   ]
  },
  {
   "cell_type": "code",
   "execution_count": 2,
   "metadata": {},
   "outputs": [],
   "source": [
    "# import allensdk\n",
    "# from allensdk.brain_observatory.ecephys import ecephys_project_cache\n",
    "# from allensdk.brain_observatory.ecephys import behavior_ecephys_session\n",
    "\n",
    "# S = behavior_ecephys_session.BehaviorEcephysSession.from_nwb_path('ecephys_session_1152811536.nwb') # Fails\n"
   ]
  }
 ],
 "metadata": {
  "kernelspec": {
   "display_name": "Python 3",
   "language": "python",
   "name": "python3"
  },
  "language_info": {
   "codemirror_mode": {
    "name": "ipython",
    "version": 3
   },
   "file_extension": ".py",
   "mimetype": "text/x-python",
   "name": "python",
   "nbconvert_exporter": "python",
   "pygments_lexer": "ipython3",
   "version": "3.9.17"
  },
  "orig_nbformat": 4
 },
 "nbformat": 4,
 "nbformat_minor": 2
}
